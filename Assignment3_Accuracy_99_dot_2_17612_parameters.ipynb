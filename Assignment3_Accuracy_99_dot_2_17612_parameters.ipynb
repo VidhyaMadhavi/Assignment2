{
  "nbformat": 4,
  "nbformat_minor": 0,
  "metadata": {
    "colab": {
      "name": "Assignment3_Accuracy_99_dot_2_17612_parameters.ipynb",
      "version": "0.3.2",
      "provenance": [],
      "collapsed_sections": [],
      "include_colab_link": true
    },
    "kernelspec": {
      "name": "python3",
      "display_name": "Python 3"
    }
  },
  "cells": [
    {
      "cell_type": "markdown",
      "metadata": {
        "id": "view-in-github",
        "colab_type": "text"
      },
      "source": [
        "[View in Colaboratory](https://colab.research.google.com/github/VidhyaMadhavi/Assignment2/blob/master/Assignment3_Accuracy_99_dot_2_17612_parameters.ipynb)"
      ]
    },
    {
      "metadata": {
        "id": "Y5gSsC7C_T9s",
        "colab_type": "text"
      },
      "cell_type": "markdown",
      "source": [
        "# Predicting Handwritten Digits with CNN\n",
        "#### This Objective of this project is predict the Handwritten Images Correctly.\n",
        "#### Target accuracy that need to be obtained is 99.2 with Trainable Parameters less than 20000\n",
        "\n",
        "\n",
        "## Approach Used to Solve the problem\n",
        "- Used Convolution Layers to extract the features\n",
        "- Used Dropout to Regularize the model\n",
        "- Used Maxplooling for feature extraction and dimensionality reduction"
      ]
    },
    {
      "metadata": {
        "id": "eGMGL88D_3o1",
        "colab_type": "text"
      },
      "cell_type": "markdown",
      "source": [
        "#### Importing Libraries"
      ]
    },
    {
      "metadata": {
        "id": "iQkbRJ9t_R8P",
        "colab_type": "code",
        "colab": {
          "base_uri": "https://localhost:8080/",
          "height": 34
        },
        "outputId": "ff87372f-0f65-4c0f-d9f7-eb63e18b65ad"
      },
      "cell_type": "code",
      "source": [
        "import numpy as np\n",
        "from keras.models import Sequential\n",
        "from keras.layers import Dense, Dropout, Activation, Flatten, Add\n",
        "from keras.layers import Convolution2D, MaxPooling2D, Conv2D\n",
        "from keras.utils import np_utils\n",
        "from keras.datasets import mnist"
      ],
      "execution_count": 2,
      "outputs": [
        {
          "output_type": "stream",
          "text": [
            "Using TensorFlow backend.\n"
          ],
          "name": "stderr"
        }
      ]
    },
    {
      "metadata": {
        "id": "oCpKYRo1_8w9",
        "colab_type": "text"
      },
      "cell_type": "markdown",
      "source": [
        "#### Loading Dataset"
      ]
    },
    {
      "metadata": {
        "id": "rGPmWRPO22qY",
        "colab_type": "code",
        "colab": {
          "base_uri": "https://localhost:8080/",
          "height": 299
        },
        "outputId": "38d177f9-b543-4a70-fc92-d96d15bc91c9"
      },
      "cell_type": "code",
      "source": [
        "(X_train, y_train), (X_test, y_test) = mnist.load_data()\n",
        "X_train.shape, y_train.shape, X_test.shape, y_test.shape\n",
        "print (X_train.shape)\n",
        "from matplotlib import pyplot as plt\n",
        "%matplotlib inline\n",
        "plt.imshow(X_train[0])"
      ],
      "execution_count": 3,
      "outputs": [
        {
          "output_type": "stream",
          "text": [
            "(60000, 28, 28)\n"
          ],
          "name": "stdout"
        },
        {
          "output_type": "execute_result",
          "data": {
            "text/plain": [
              "<matplotlib.image.AxesImage at 0x7f47a5c4aac8>"
            ]
          },
          "metadata": {
            "tags": []
          },
          "execution_count": 3
        },
        {
          "output_type": "display_data",
          "data": {
            "image/png": "[encoded data removed]",
            "text/plain": [
              "<matplotlib.figure.Figure at 0x7f47c0c61940>"
            ]
          },
          "metadata": {
            "tags": []
          }
        }
      ]
    },
    {
      "metadata": {
        "id": "h8kHZ7FvLE0f",
        "colab_type": "text"
      },
      "cell_type": "markdown",
      "source": [
        "#### Data Preprocessing"
      ]
    },
    {
      "metadata": {
        "id": "cTf74Hsc3Szn",
        "colab_type": "code",
        "colab": {
          "base_uri": "https://localhost:8080/",
          "height": 187
        },
        "outputId": "dea6fd6e-1e69-4910-faa1-329ab000833f"
      },
      "cell_type": "code",
      "source": [
        "# reshape to be [samples][pixels][width][height]\n",
        "X_train = X_train.reshape(X_train.shape[0], 28, 28,1)\n",
        "X_test = X_test.reshape(X_test.shape[0], 28, 28,1)\n",
        "\n",
        "X_train.shape, X_train[0].shape\n",
        "# convert from int to float\n",
        "X_train = X_train.astype('float32')\n",
        "X_test = X_test.astype('float32')\n",
        "X_train /= 255\n",
        "X_test /= 255\n",
        "\n",
        "y_train[:10]\n",
        "# Convert 1-dimensional class arrays to 10-dimensional class matrices\n",
        "Y_train = np_utils.to_categorical(y_train, 10)\n",
        "Y_test = np_utils.to_categorical(y_test, 10)\n",
        "Y_train[:10]"
      ],
      "execution_count": 4,
      "outputs": [
        {
          "output_type": "execute_result",
          "data": {
            "text/plain": [
              "array([[0., 0., 0., 0., 0., 1., 0., 0., 0., 0.],\n",
              "       [1., 0., 0., 0., 0., 0., 0., 0., 0., 0.],\n",
              "       [0., 0., 0., 0., 1., 0., 0., 0., 0., 0.],\n",
              "       [0., 1., 0., 0., 0., 0., 0., 0., 0., 0.],\n",
              "       [0., 0., 0., 0., 0., 0., 0., 0., 0., 1.],\n",
              "       [0., 0., 1., 0., 0., 0., 0., 0., 0., 0.],\n",
              "       [0., 1., 0., 0., 0., 0., 0., 0., 0., 0.],\n",
              "       [0., 0., 0., 1., 0., 0., 0., 0., 0., 0.],\n",
              "       [0., 1., 0., 0., 0., 0., 0., 0., 0., 0.],\n",
              "       [0., 0., 0., 0., 1., 0., 0., 0., 0., 0.]], dtype=float32)"
            ]
          },
          "metadata": {
            "tags": []
          },
          "execution_count": 4
        }
      ]
    },
    {
      "metadata": {
        "id": "SGC_qN_5LhI-",
        "colab_type": "text"
      },
      "cell_type": "markdown",
      "source": [
        "#### Build Model"
      ]
    },
    {
      "metadata": {
        "id": "pGHhJvDP3du0",
        "colab_type": "code",
        "colab": {}
      },
      "cell_type": "code",
      "source": [
        "from keras.layers import Activation\n",
        "import keras\n",
        "model = Sequential()\n",
        "\n",
        "\n",
        "model.add(Conv2D(16, (3, 3), input_shape=(28, 28, 1)))\n",
        "model.add(Dropout(0.2))\n",
        "\n",
        "model.add(Conv2D(24,(3,3), activation='relu' ))\n",
        "model.add(MaxPooling2D(pool_size = (2,2), strides= 1, padding='same'))\n",
        "\n",
        "model.add(Conv2D(18, (1,1), activation='relu'))\n",
        "model.add(Conv2D(16,(1,3), activation='relu' ))\n",
        "model.add(Conv2D(14,(3,1), activation='relu' ))\n",
        "model.add(MaxPooling2D(pool_size = (2,2), strides= 2,  padding='same'))\n",
        "\n",
        "model.add(Conv2D(18, (1,1), activation='relu'))\n",
        "model.add(MaxPooling2D(pool_size = (2,2), strides= 1,  padding='same'))\n",
        "\n",
        "\n",
        "model.add(Conv2D(12,(3,3), activation='relu' ))\n",
        "model.add(Dropout(0.33))\n",
        "\n",
        "model.add(Convolution2D(10, 9))\n",
        "model.add(Flatten())\n",
        "model.add(Activation('softmax'))"
      ],
      "execution_count": 0,
      "outputs": []
    },
    {
      "metadata": {
        "id": "j3ZgLMnk3hee",
        "colab_type": "code",
        "colab": {
          "base_uri": "https://localhost:8080/",
          "height": 646
        },
        "outputId": "852776d0-4982-44af-8096-900888634d0e"
      },
      "cell_type": "code",
      "source": [
        "model.summary()"
      ],
      "execution_count": 6,
      "outputs": [
        {
          "output_type": "stream",
          "text": [
            "_________________________________________________________________\n",
            "Layer (type)                 Output Shape              Param #   \n",
            "=================================================================\n",
            "conv2d_1 (Conv2D)            (None, 26, 26, 16)        160       \n",
            "_________________________________________________________________\n",
            "dropout_1 (Dropout)          (None, 26, 26, 16)        0         \n",
            "_________________________________________________________________\n",
            "conv2d_2 (Conv2D)            (None, 24, 24, 24)        3480      \n",
            "_________________________________________________________________\n",
            "max_pooling2d_1 (MaxPooling2 (None, 24, 24, 24)        0         \n",
            "_________________________________________________________________\n",
            "conv2d_3 (Conv2D)            (None, 24, 24, 18)        450       \n",
            "_________________________________________________________________\n",
            "conv2d_4 (Conv2D)            (None, 24, 22, 16)        880       \n",
            "_________________________________________________________________\n",
            "conv2d_5 (Conv2D)            (None, 22, 22, 14)        686       \n",
            "_________________________________________________________________\n",
            "max_pooling2d_2 (MaxPooling2 (None, 11, 11, 14)        0         \n",
            "_________________________________________________________________\n",
            "conv2d_6 (Conv2D)            (None, 11, 11, 18)        270       \n",
            "_________________________________________________________________\n",
            "max_pooling2d_3 (MaxPooling2 (None, 11, 11, 18)        0         \n",
            "_________________________________________________________________\n",
            "conv2d_7 (Conv2D)            (None, 9, 9, 12)          1956      \n",
            "_________________________________________________________________\n",
            "dropout_2 (Dropout)          (None, 9, 9, 12)          0         \n",
            "_________________________________________________________________\n",
            "conv2d_8 (Conv2D)            (None, 1, 1, 10)          9730      \n",
            "_________________________________________________________________\n",
            "flatten_1 (Flatten)          (None, 10)                0         \n",
            "_________________________________________________________________\n",
            "activation_1 (Activation)    (None, 10)                0         \n",
            "=================================================================\n",
            "Total params: 17,612\n",
            "Trainable params: 17,612\n",
            "Non-trainable params: 0\n",
            "_________________________________________________________________\n"
          ],
          "name": "stdout"
        }
      ]
    },
    {
      "metadata": {
        "id": "_g6lnURULk8P",
        "colab_type": "text"
      },
      "cell_type": "markdown",
      "source": [
        "#### Compile Model"
      ]
    },
    {
      "metadata": {
        "id": "4cXBnND93lfE",
        "colab_type": "code",
        "colab": {}
      },
      "cell_type": "code",
      "source": [
        "\n",
        "model.compile(loss='categorical_crossentropy',\n",
        "             optimizer='adam',\n",
        "             metrics=['accuracy'],\n",
        "             )"
      ],
      "execution_count": 0,
      "outputs": []
    },
    {
      "metadata": {
        "id": "MPaV3oitLv5D",
        "colab_type": "text"
      },
      "cell_type": "markdown",
      "source": [
        "#### Traing Model"
      ]
    },
    {
      "metadata": {
        "id": "NidfDXR93orO",
        "colab_type": "code",
        "colab": {
          "base_uri": "https://localhost:8080/",
          "height": 1751
        },
        "outputId": "bf1fd258-361d-42a7-d7c6-84dd4a647bc8"
      },
      "cell_type": "code",
      "source": [
        "model.fit(X_train, Y_train, batch_size=100, epochs=50, shuffle= True, verbose=1, validation_split = 0.20)\n",
        "\n",
        "score = model.evaluate(X_test, Y_test, verbose=0)\n",
        "print (score)"
      ],
      "execution_count": 11,
      "outputs": [
        {
          "output_type": "stream",
          "text": [
            "Train on 48000 samples, validate on 12000 samples\n",
            "Epoch 1/50\n",
            "48000/48000 [==============================] - 113s 2ms/step - loss: 0.0200 - acc: 0.9932 - val_loss: 0.0312 - val_acc: 0.9909\n",
            "Epoch 2/50\n",
            "48000/48000 [==============================] - 112s 2ms/step - loss: 0.0197 - acc: 0.9934 - val_loss: 0.0301 - val_acc: 0.9928\n",
            "Epoch 3/50\n",
            "48000/48000 [==============================] - 112s 2ms/step - loss: 0.0202 - acc: 0.9933 - val_loss: 0.0260 - val_acc: 0.9923\n",
            "Epoch 4/50\n",
            "48000/48000 [==============================] - 112s 2ms/step - loss: 0.0192 - acc: 0.9937 - val_loss: 0.0289 - val_acc: 0.9918\n",
            "Epoch 5/50\n",
            "48000/48000 [==============================] - 111s 2ms/step - loss: 0.0188 - acc: 0.9936 - val_loss: 0.0312 - val_acc: 0.9927\n",
            "Epoch 6/50\n",
            "48000/48000 [==============================] - 112s 2ms/step - loss: 0.0187 - acc: 0.9936 - val_loss: 0.0294 - val_acc: 0.9921\n",
            "Epoch 7/50\n",
            "48000/48000 [==============================] - 112s 2ms/step - loss: 0.0174 - acc: 0.9945 - val_loss: 0.0280 - val_acc: 0.9916\n",
            "Epoch 8/50\n",
            "48000/48000 [==============================] - 111s 2ms/step - loss: 0.0178 - acc: 0.9937 - val_loss: 0.0333 - val_acc: 0.9912\n",
            "Epoch 9/50\n",
            "48000/48000 [==============================] - 113s 2ms/step - loss: 0.0173 - acc: 0.9941 - val_loss: 0.0342 - val_acc: 0.9908\n",
            "Epoch 10/50\n",
            "48000/48000 [==============================] - 111s 2ms/step - loss: 0.0181 - acc: 0.9940 - val_loss: 0.0294 - val_acc: 0.9919\n",
            "Epoch 11/50\n",
            "48000/48000 [==============================] - 112s 2ms/step - loss: 0.0179 - acc: 0.9937 - val_loss: 0.0266 - val_acc: 0.9932\n",
            "Epoch 12/50\n",
            "48000/48000 [==============================] - 112s 2ms/step - loss: 0.0176 - acc: 0.9944 - val_loss: 0.0286 - val_acc: 0.9915\n",
            "Epoch 13/50\n",
            "48000/48000 [==============================] - 111s 2ms/step - loss: 0.0173 - acc: 0.9939 - val_loss: 0.0304 - val_acc: 0.9922\n",
            "Epoch 14/50\n",
            "48000/48000 [==============================] - 111s 2ms/step - loss: 0.0162 - acc: 0.9944 - val_loss: 0.0283 - val_acc: 0.9924\n",
            "Epoch 15/50\n",
            "48000/48000 [==============================] - 112s 2ms/step - loss: 0.0148 - acc: 0.9947 - val_loss: 0.0318 - val_acc: 0.9916\n",
            "Epoch 16/50\n",
            "48000/48000 [==============================] - 112s 2ms/step - loss: 0.0169 - acc: 0.9941 - val_loss: 0.0316 - val_acc: 0.9920\n",
            "Epoch 17/50\n",
            "48000/48000 [==============================] - 113s 2ms/step - loss: 0.0153 - acc: 0.9948 - val_loss: 0.0323 - val_acc: 0.9911\n",
            "Epoch 18/50\n",
            "48000/48000 [==============================] - 112s 2ms/step - loss: 0.0157 - acc: 0.9943 - val_loss: 0.0292 - val_acc: 0.9923\n",
            "Epoch 19/50\n",
            "48000/48000 [==============================] - 112s 2ms/step - loss: 0.0158 - acc: 0.9945 - val_loss: 0.0342 - val_acc: 0.9916\n",
            "Epoch 20/50\n",
            "48000/48000 [==============================] - 112s 2ms/step - loss: 0.0178 - acc: 0.9937 - val_loss: 0.0296 - val_acc: 0.9929\n",
            "Epoch 21/50\n",
            "48000/48000 [==============================] - 112s 2ms/step - loss: 0.0153 - acc: 0.9951 - val_loss: 0.0323 - val_acc: 0.9916\n",
            "Epoch 22/50\n",
            "48000/48000 [==============================] - 112s 2ms/step - loss: 0.0146 - acc: 0.9949 - val_loss: 0.0277 - val_acc: 0.9925\n",
            "Epoch 23/50\n",
            "48000/48000 [==============================] - 112s 2ms/step - loss: 0.0166 - acc: 0.9942 - val_loss: 0.0300 - val_acc: 0.9918\n",
            "Epoch 24/50\n",
            "48000/48000 [==============================] - 111s 2ms/step - loss: 0.0151 - acc: 0.9948 - val_loss: 0.0284 - val_acc: 0.9921\n",
            "Epoch 25/50\n",
            "48000/48000 [==============================] - 112s 2ms/step - loss: 0.0157 - acc: 0.9943 - val_loss: 0.0280 - val_acc: 0.9931\n",
            "Epoch 26/50\n",
            "48000/48000 [==============================] - 112s 2ms/step - loss: 0.0142 - acc: 0.9953 - val_loss: 0.0321 - val_acc: 0.9915\n",
            "Epoch 27/50\n",
            "48000/48000 [==============================] - 111s 2ms/step - loss: 0.0164 - acc: 0.9945 - val_loss: 0.0284 - val_acc: 0.9921\n",
            "Epoch 28/50\n",
            "48000/48000 [==============================] - 111s 2ms/step - loss: 0.0149 - acc: 0.9948 - val_loss: 0.0305 - val_acc: 0.9917\n",
            "Epoch 29/50\n",
            "48000/48000 [==============================] - 112s 2ms/step - loss: 0.0133 - acc: 0.9955 - val_loss: 0.0334 - val_acc: 0.9911\n",
            "Epoch 30/50\n",
            "48000/48000 [==============================] - 111s 2ms/step - loss: 0.0134 - acc: 0.9952 - val_loss: 0.0331 - val_acc: 0.9917\n",
            "Epoch 31/50\n",
            "48000/48000 [==============================] - 112s 2ms/step - loss: 0.0159 - acc: 0.9947 - val_loss: 0.0277 - val_acc: 0.9920\n",
            "Epoch 32/50\n",
            "48000/48000 [==============================] - 112s 2ms/step - loss: 0.0142 - acc: 0.9953 - val_loss: 0.0272 - val_acc: 0.9928\n",
            "Epoch 33/50\n",
            "48000/48000 [==============================] - 112s 2ms/step - loss: 0.0149 - acc: 0.9948 - val_loss: 0.0287 - val_acc: 0.9919\n",
            "Epoch 34/50\n",
            "48000/48000 [==============================] - 112s 2ms/step - loss: 0.0132 - acc: 0.9956 - val_loss: 0.0347 - val_acc: 0.9914\n",
            "Epoch 35/50\n",
            "48000/48000 [==============================] - 112s 2ms/step - loss: 0.0134 - acc: 0.9954 - val_loss: 0.0349 - val_acc: 0.9917\n",
            "Epoch 36/50\n",
            "48000/48000 [==============================] - 112s 2ms/step - loss: 0.0135 - acc: 0.9953 - val_loss: 0.0310 - val_acc: 0.9915\n",
            "Epoch 37/50\n",
            "48000/48000 [==============================] - 112s 2ms/step - loss: 0.0147 - acc: 0.9949 - val_loss: 0.0272 - val_acc: 0.9928\n",
            "Epoch 38/50\n",
            "48000/48000 [==============================] - 111s 2ms/step - loss: 0.0135 - acc: 0.9954 - val_loss: 0.0322 - val_acc: 0.9920\n",
            "Epoch 39/50\n",
            "48000/48000 [==============================] - 111s 2ms/step - loss: 0.0126 - acc: 0.9956 - val_loss: 0.0355 - val_acc: 0.9916\n",
            "Epoch 40/50\n",
            "48000/48000 [==============================] - 112s 2ms/step - loss: 0.0152 - acc: 0.9948 - val_loss: 0.0353 - val_acc: 0.9912\n",
            "Epoch 41/50\n",
            "48000/48000 [==============================] - 112s 2ms/step - loss: 0.0120 - acc: 0.9958 - val_loss: 0.0335 - val_acc: 0.9913\n",
            "Epoch 42/50\n",
            "48000/48000 [==============================] - 112s 2ms/step - loss: 0.0130 - acc: 0.9954 - val_loss: 0.0301 - val_acc: 0.9925\n",
            "Epoch 43/50\n",
            "48000/48000 [==============================] - 112s 2ms/step - loss: 0.0151 - acc: 0.9948 - val_loss: 0.0345 - val_acc: 0.9917\n",
            "Epoch 44/50\n",
            "48000/48000 [==============================] - 111s 2ms/step - loss: 0.0127 - acc: 0.9959 - val_loss: 0.0301 - val_acc: 0.9921\n",
            "Epoch 45/50\n",
            "48000/48000 [==============================] - 112s 2ms/step - loss: 0.0130 - acc: 0.9955 - val_loss: 0.0317 - val_acc: 0.9912\n",
            "Epoch 46/50\n",
            "48000/48000 [==============================] - 111s 2ms/step - loss: 0.0140 - acc: 0.9953 - val_loss: 0.0284 - val_acc: 0.9930\n",
            "Epoch 47/50\n",
            "48000/48000 [==============================] - 111s 2ms/step - loss: 0.0115 - acc: 0.9961 - val_loss: 0.0307 - val_acc: 0.9923\n",
            "Epoch 48/50\n",
            "48000/48000 [==============================] - 112s 2ms/step - loss: 0.0133 - acc: 0.9952 - val_loss: 0.0328 - val_acc: 0.9916\n",
            "Epoch 49/50\n",
            "48000/48000 [==============================] - 112s 2ms/step - loss: 0.0123 - acc: 0.9958 - val_loss: 0.0309 - val_acc: 0.9929\n",
            "Epoch 50/50\n",
            "48000/48000 [==============================] - 112s 2ms/step - loss: 0.0132 - acc: 0.9955 - val_loss: 0.0332 - val_acc: 0.9928\n",
            "[0.03248606431997932, 0.9928]\n"
          ],
          "name": "stdout"
        }
      ]
    },
    {
      "metadata": {
        "id": "q8PAHWmELzGb",
        "colab_type": "text"
      },
      "cell_type": "markdown",
      "source": [
        "#### Evaluate Model"
      ]
    },
    {
      "metadata": {
        "id": "3KK8a5Tn58gz",
        "colab_type": "code",
        "colab": {
          "base_uri": "https://localhost:8080/",
          "height": 34
        },
        "outputId": "4ba86de7-d549-495f-9d70-9e413cd8b8be"
      },
      "cell_type": "code",
      "source": [
        "score = model.evaluate(X_test, Y_test, verbose=0)\n",
        "print (score)"
      ],
      "execution_count": 12,
      "outputs": [
        {
          "output_type": "stream",
          "text": [
            "[0.03248606431997932, 0.9928]\n"
          ],
          "name": "stdout"
        }
      ]
    },
    {
      "metadata": {
        "id": "Tk35q1c6MjwE",
        "colab_type": "code",
        "colab": {}
      },
      "cell_type": "code",
      "source": [
        ""
      ],
      "execution_count": 0,
      "outputs": []
    }
  ]
}